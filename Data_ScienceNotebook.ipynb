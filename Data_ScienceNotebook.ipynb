{
 "cells": [
  {
   "cell_type": "markdown",
   "id": "21ed0580-5847-4e23-b0e4-59777d1cb54a",
   "metadata": {},
   "source": [
    "# Data Science Notebook"
   ]
  },
  {
   "cell_type": "markdown",
   "id": "7b02c74d-b1f8-4356-be5a-56c6f98e5c0c",
   "metadata": {},
   "source": [
    "## Introduction\r\n",
    "Welcome to this data science notebook! In this notebook, we will explore various concepts related to data science and practice some coding exercises.\r\n"
   ]
  },
  {
   "cell_type": "markdown",
   "id": "a214c922-13f4-4542-8493-5de0d31bd71f",
   "metadata": {},
   "source": [
    "## Data Science Languages\r\n",
    "- Python\r\n",
    "- R\r\n",
    "- SQL\r\n"
   ]
  },
  {
   "cell_type": "markdown",
   "id": "0e8b9668-b971-4a16-847a-1fc22330aa39",
   "metadata": {},
   "source": [
    "## Data Science Libraries\r\n",
    "- Pandas\r\n",
    "- NumPy\r\n",
    "- Matplotlib\r\n",
    "- Scikit-Learn\r\n"
   ]
  },
  {
   "cell_type": "markdown",
   "id": "bab8fe26-7dae-41cb-85d1-2d2de318e435",
   "metadata": {},
   "source": [
    "## Data Science Tools\n",
    "| Tool          | Description                 |\n",
    "|---------------|-----------------------------|\n",
    "| Jupyter       | Interactive Computing       |\n",
    "| TensorFlow    | Machine Learning Framework  |\n",
    "| Tableau       | Data Visualization          |\n"
   ]
  },
  {
   "cell_type": "markdown",
   "id": "aa4f12da-3d7b-41a9-973c-a700bb2ec1cf",
   "metadata": {},
   "source": [
    "## Arithmetic Expressions\n",
    "Let's explore some basic arithmetic operations like addition, subtraction, multiplication, and division.\n"
   ]
  },
  {
   "cell_type": "code",
   "execution_count": 2,
   "id": "526fd7d5-642c-42e5-91fb-d043da500182",
   "metadata": {},
   "outputs": [
    {
     "name": "stdout",
     "output_type": "stream",
     "text": [
      "25\n"
     ]
    }
   ],
   "source": [
    "# Multiply and Add Numbers\r\n",
    "result = 3 * 5 + 10\r\n",
    "print(result)\r\n"
   ]
  },
  {
   "cell_type": "code",
   "execution_count": 3,
   "id": "7ee40448-2753-4e07-a937-bdea41327ad1",
   "metadata": {},
   "outputs": [
    {
     "name": "stdout",
     "output_type": "stream",
     "text": [
      "2.0\n"
     ]
    }
   ],
   "source": [
    "# Convert Minutes to Hours\n",
    "minutes = 120\n",
    "hours = minutes / 60\n",
    "print(hours)\n"
   ]
  },
  {
   "cell_type": "markdown",
   "id": "50a7ed39-308c-4bc9-b0ef-d6d139a3bdf4",
   "metadata": {},
   "source": [
    "## Objectives\n",
    "- Learn fundamental data science concepts\n",
    "- Practice coding exercises in Python and R\n",
    "- Explore various data science tools and libraries\n"
   ]
  },
  {
   "cell_type": "markdown",
   "id": "8b4bc3ad-8fac-462a-842e-4b4a98e4f3a4",
   "metadata": {},
   "source": [
    "## Author\r",
    "Harsh Joshie\r\n"
   ]
  }
 ],
 "metadata": {
  "kernelspec": {
   "display_name": "Python 3 (ipykernel)",
   "language": "python",
   "name": "python3"
  },
  "language_info": {
   "codemirror_mode": {
    "name": "ipython",
    "version": 3
   },
   "file_extension": ".py",
   "mimetype": "text/x-python",
   "name": "python",
   "nbconvert_exporter": "python",
   "pygments_lexer": "ipython3",
   "version": "3.11.3"
  }
 },
 "nbformat": 4,
 "nbformat_minor": 5
}
